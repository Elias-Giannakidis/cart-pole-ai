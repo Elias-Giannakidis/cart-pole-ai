{
 "cells": [
  {
   "cell_type": "code",
   "execution_count": 1,
   "metadata": {},
   "outputs": [],
   "source": [
    "# Import necessary libraries.\n",
    "import tensorflow as tf\n",
    "from tensorflow import keras\n",
    "import gym \n",
    "import math\n",
    "import numpy as np\n",
    "import random\n",
    "from collections import deque"
   ]
  },
  {
   "cell_type": "code",
   "execution_count": 2,
   "metadata": {},
   "outputs": [],
   "source": [
    "# Create the environment.\n",
    "env_name = \"CartPole-v1\"\n",
    "env = gym.make(env_name)"
   ]
  },
  {
   "cell_type": "markdown",
   "metadata": {},
   "source": [
    "# Define parameters"
   ]
  },
  {
   "cell_type": "code",
   "execution_count": 3,
   "metadata": {},
   "outputs": [],
   "source": [
    "# Define necessary parameters.\n",
    "n_episodes = 1000\n",
    "n_win_ticks = 3000\n",
    "\n",
    "gamma = 1.0\n",
    "epsilon = 1.0\n",
    "epsilon_min = 0.01\n",
    "epsilon_decay = 0.995\n",
    "alpha = 0.01  \n",
    "alpha_decay = 0.01\n",
    "\n",
    "batch_size = 64\n",
    "\n",
    "quet = False \n",
    "\n",
    "memory = deque(maxlen = 100000)\n",
    "\n",
    "SHOW_EVERY = 20"
   ]
  },
  {
   "cell_type": "markdown",
   "metadata": {},
   "source": [
    "# Building neural network"
   ]
  },
  {
   "cell_type": "code",
   "execution_count": 4,
   "metadata": {},
   "outputs": [],
   "source": [
    "# Make the neural network model\n",
    "# That has the role of q-matrix\n",
    "from tensorflow.keras.models import Sequential\n",
    "from tensorflow.keras.layers import Dense\n",
    "from tensorflow.keras.optimizers import Adam\n",
    "\n",
    "model = Sequential()\n",
    "model.add(Dense(24, input_dim = 4, activation = 'relu'))\n",
    "model.add(Dense(48, activation = 'relu'))\n",
    "model.add(Dense(48, activation = 'relu'))\n",
    "model.add(Dense(2, activation = 'softmax'))\n",
    "model.compile(loss = 'mse', optimizer = Adam(lr = alpha, decay = alpha_decay))"
   ]
  },
  {
   "cell_type": "markdown",
   "metadata": {},
   "source": [
    "# Define necessary functions"
   ]
  },
  {
   "cell_type": "code",
   "execution_count": 5,
   "metadata": {},
   "outputs": [],
   "source": [
    "def remember(state, action, reward, next_state, done):\n",
    "    # Save situations.\n",
    "    memory.append((state, action, reward, next_state, done))   \n",
    "    \n",
    "def choose_action(state, epsilon):\n",
    "    # Prediction funcion. e % to choose a random choice else predict accordin the model.\n",
    "    return env.action_space.sample() if np.random.random() <= epsilon else np.argmax(model.predict(state))\n",
    "\n",
    "def get_epsilon(t):\n",
    "    # Calculate the next epsilon according an math equation.\n",
    "    return max(epsilon_min, min(epsilon, 1.0 - math.log10((t+1)*epsilon_decay)))\n",
    "\n",
    "def preprocess_state(state):\n",
    "    # Resize the state to fit with neural network.\n",
    "    return np.reshape(state, [1,4])\n",
    "\n",
    "def replay(batch_size, epsilon):\n",
    "    # Define the training data.\n",
    "    x_batch, y_batch = [], []\n",
    "    # From the memory take at random, a amount of situations for batches.\n",
    "    minibatch = random.sample(memory, min(len(memory), batch_size))\n",
    "    \n",
    "    for state, action, reward, next_state, done in minibatch:  \n",
    "        # Calculate outputs of q-matrix\n",
    "        y_target = model.predict(state)\n",
    "        y_target[0][action] = reward if done else reward + gamma*np.max(model.predict(next_state)[0])\n",
    "        x_batch.append(state[0])\n",
    "        y_batch.append(y_target[0])\n",
    "    # Train the model\n",
    "    model.fit(np.array(x_batch), np.array(y_batch), batch_size = len(x_batch), verbose = 0)\n",
    "    # decrease the epsilon. As the time gone, i want more prediction from q-matrix instead random.\n",
    "    if epsilon > epsilon_min:\n",
    "        epsilon *= epsilon_decay"
   ]
  },
  {
   "cell_type": "markdown",
   "metadata": {},
   "source": [
    "# Define run function"
   ]
  },
  {
   "cell_type": "code",
   "execution_count": 6,
   "metadata": {},
   "outputs": [],
   "source": [
    "def run():\n",
    "    \n",
    "    # Save the scores of 100 last episodes.\n",
    "    scores = deque(maxlen = 100)\n",
    "    \n",
    "    for e in range(n_episodes):\n",
    "        \n",
    "        # start the environment and resize the state matrix.\n",
    "        state = preprocess_state(env.reset())\n",
    "        done = False\n",
    "        # Score parameter.\n",
    "        i = 0  \n",
    "        \n",
    "        while not done:\n",
    "            \n",
    "            # STEP1 choose an action.\n",
    "            action = choose_action(state, get_epsilon(e))\n",
    "            \n",
    "            #STEP2 Do the action and get the new state and reward.\n",
    "            next_state, reward, done, _ = env.step(action)\n",
    "            # Resize the state matrix.\n",
    "            next_state = preprocess_state(next_state)\n",
    "            \n",
    "            # STEP3 save the situation.\n",
    "            remember(state, action, reward, next_state, done)\n",
    "            # Restart the loop.\n",
    "            state = next_state\n",
    "            # Ingrece the i (score paremeter) in each loop!\n",
    "            i += 1 \n",
    "         \n",
    "        # <<We are outside of the loop.>>\n",
    "        # Add the numper of loops \"i\".\n",
    "        scores.append(i) \n",
    "        # Get the average score of last episodes.\n",
    "        mean_score = np.mean(scores) \n",
    "        \n",
    "        # Check if the problem has solved.\n",
    "        if mean_score >= n_win_ticks and e >= 100:\n",
    "            # If want to print messages, it will print the episode which solved the puzzle.\n",
    "            if not quet: \n",
    "                print('Run {} episodes. Solved after {} trails'.format(e, e-100))\n",
    "            return e -100\n",
    "        \n",
    "        # Show the environment SHOW_EVERY times.\n",
    "        if e % SHOW_EVERY == 0 and not quet:\n",
    "            ## Take a image every 20 cycles.\n",
    "            env.render()\n",
    "            print('[Episode {}] - Mean survival time over last 100 episodes was {} ticks.'.format(e,mean_score))\n",
    "        \n",
    "        #STEP4 Train the neural network according the new situations of new episode.\n",
    "        replay(batch_size, get_epsilon(e))\n",
    "    \n",
    "    # Print message.\n",
    "    if not quet:\n",
    "        print('Did not solve after {} episodes'.format(e))"
   ]
  },
  {
   "cell_type": "code",
   "execution_count": null,
   "metadata": {
    "scrolled": true
   },
   "outputs": [],
   "source": [
    "run()"
   ]
  },
  {
   "cell_type": "code",
   "execution_count": null,
   "metadata": {},
   "outputs": [],
   "source": [
    "env.close()"
   ]
  },
  {
   "cell_type": "code",
   "execution_count": null,
   "metadata": {},
   "outputs": [],
   "source": [
    "model.save('saved.model')"
   ]
  },
  {
   "cell_type": "code",
   "execution_count": 9,
   "metadata": {},
   "outputs": [],
   "source": [
    "new_model = keras.models.load_model('saved.model')"
   ]
  },
  {
   "cell_type": "markdown",
   "metadata": {},
   "source": [
    "# Test of saved model."
   ]
  },
  {
   "cell_type": "code",
   "execution_count": 13,
   "metadata": {},
   "outputs": [
    {
     "name": "stdout",
     "output_type": "stream",
     "text": [
      "The model run for 500 ticks\n"
     ]
    }
   ],
   "source": [
    "done = False\n",
    "state =env.reset()\n",
    "state = preprocess_state(state)\n",
    "ticks = 0\n",
    "while not done:\n",
    "    ticks += 1\n",
    "    action = np.argmax(new_model.predict(state))\n",
    "    state, reward, done, _ = env.step(action)\n",
    "    state = preprocess_state(state)\n",
    "    env.render()\n",
    "print(\"The model run for {} ticks\".format(ticks))\n",
    "env.close()"
   ]
  }
 ],
 "metadata": {
  "kernelspec": {
   "display_name": "Python 3",
   "language": "python",
   "name": "python3"
  },
  "language_info": {
   "codemirror_mode": {
    "name": "ipython",
    "version": 3
   },
   "file_extension": ".py",
   "mimetype": "text/x-python",
   "name": "python",
   "nbconvert_exporter": "python",
   "pygments_lexer": "ipython3",
   "version": "3.7.7"
  }
 },
 "nbformat": 4,
 "nbformat_minor": 4
}
