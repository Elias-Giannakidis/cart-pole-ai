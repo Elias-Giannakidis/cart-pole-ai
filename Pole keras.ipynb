{
 "cells": [
  {
   "cell_type": "code",
   "execution_count": 1,
   "metadata": {},
   "outputs": [],
   "source": [
    "import tensorflow as tf\n",
    "from tensorflow import keras\n",
    "import gym \n",
    "import math\n",
    "import numpy as np\n",
    "import random\n",
    "from collections import deque"
   ]
  },
  {
   "cell_type": "code",
   "execution_count": 2,
   "metadata": {},
   "outputs": [],
   "source": [
    "env_name = \"CartPole-v1\"\n",
    "env = gym.make(env_name)"
   ]
  },
  {
   "cell_type": "markdown",
   "metadata": {},
   "source": [
    "# Define parameters"
   ]
  },
  {
   "cell_type": "code",
   "execution_count": 37,
   "metadata": {},
   "outputs": [],
   "source": [
    "n_episodes = 1000\n",
    "n_win_ticks = 300\n",
    "max_env_steps = None\n",
    "\n",
    "gamma = 0.85\n",
    "epsilon = 1.0\n",
    "epsilon_min = 0.005\n",
    "epsilon_decay = 0.995\n",
    "alpha = 0.00001  \n",
    "alpha_decay = 0.00001\n",
    "\n",
    "batch_size = 128\n",
    "#monitor = False   meaby USELESS\n",
    "quet = False  #### That parameters is only for prints\n",
    "### or render. If it is True, the program will does't show enything\n",
    "\n",
    "memory = deque(maxlen = 100000)\n",
    "\n",
    "SHOW_EVERY = 20\n",
    "\n",
    "if max_env_steps is not None: env.max_episode_steps = max_env_steps"
   ]
  },
  {
   "cell_type": "markdown",
   "metadata": {},
   "source": [
    "# Building neural network"
   ]
  },
  {
   "cell_type": "code",
   "execution_count": 38,
   "metadata": {},
   "outputs": [],
   "source": [
    "from tensorflow.keras.models import Sequential\n",
    "from tensorflow.keras.layers import Dense\n",
    "from tensorflow.keras.optimizers import Adam\n",
    "\n",
    "model = Sequential()\n",
    "model.add(Dense(136, input_dim = 4, activation = 'relu'))\n",
    "model.add(Dense(272, activation = 'relu'))\n",
    "model.add(Dense(2, activation = 'relu'))\n",
    "model.compile(loss = 'mse', optimizer = Adam(lr = alpha, decay = alpha_decay))"
   ]
  },
  {
   "cell_type": "markdown",
   "metadata": {},
   "source": [
    "# Define necessary functions"
   ]
  },
  {
   "cell_type": "code",
   "execution_count": 39,
   "metadata": {},
   "outputs": [],
   "source": [
    "def remember(state, action, reward, next_state, done):\n",
    "    #### Save the models???\n",
    "    memory.append((state, action, reward, next_state, done))   \n",
    "    \n",
    "def choose_action(state, epsilon):\n",
    "    ### choose an action according to the output. \n",
    "    ### if predict is low, make random choice else choose the predict\n",
    "    return env.action_space.sample() if np.random.random() <= epsilon else np.argmax(model.predict(state))\n",
    "\n",
    "def get_epsilon(t):\n",
    "    ### calculate the next epsilon according a equation\n",
    "    return max(epsilon_min, min(epsilon, 1.0 - math.log10((t+1)*epsilon_decay)))\n",
    "\n",
    "def preprocess_state(state):\n",
    "    ### risize the state to fit with neural network\n",
    "    return np.reshape(state, [1,4])\n",
    "\n",
    "def replay(batch_size, epsilon):\n",
    "    ##### I Don't know????????\n",
    "    x_batch, y_batch = [], []\n",
    "    ### From the memory take a amount of batch size for proseccing\n",
    "    minibatch = random.sample(memory, min(len(memory), batch_size))\n",
    "    \n",
    "    for state, action, reward, next_state, done in minibatch:  \n",
    "        \n",
    "        y_target = model.predict(state)\n",
    "        y_target[0][action] = reward if done else reward + gamma*np.max(model.predict(next_state)[0])\n",
    "        x_batch.append(state[0])\n",
    "        y_batch.append(y_target[0])\n",
    "    \n",
    "    model.fit(np.array(x_batch), np.array(y_batch), batch_size = len(x_batch), verbose = 0)\n",
    "    \n",
    "    if epsilon > epsilon_min:\n",
    "        epsilon *= epsilon_decay"
   ]
  },
  {
   "cell_type": "markdown",
   "metadata": {},
   "source": [
    "# Define run function"
   ]
  },
  {
   "cell_type": "code",
   "execution_count": 40,
   "metadata": {},
   "outputs": [],
   "source": [
    "def run():\n",
    "    \n",
    "  ### Here run the model!!!!!\n",
    "\n",
    "    scores = deque(maxlen = 100)\n",
    "    ### scores memory possibl!!!\n",
    "    \n",
    "    for e in range(n_episodes):\n",
    "        \n",
    "        ###start the episode, so reset the enviroment\n",
    "        state = preprocess_state(env.reset())\n",
    "        done = False\n",
    "        \n",
    "        i = 0  ### zero the i at the start!!\n",
    "        \n",
    "        while not done:\n",
    "            \n",
    "            #env.render()\n",
    "            \n",
    "            # STEP1 choose an action according, the state and action_equation,\n",
    "            ### in this step we use the get epsilon equation olso,\n",
    "            action = choose_action(state, get_epsilon(e))\n",
    "            \n",
    "            #STEP2 we get the new state of real enviroment according to the choosen action\n",
    "            next_state, reward, done, _ = env.step(action)\n",
    "            ### Here we just resize the state matrix to fit in the model\n",
    "            next_state = preprocess_state(next_state)\n",
    "            \n",
    "            # STEP3 save the situation\n",
    "            remember(state, action, reward, next_state, done)\n",
    "            ## and restart the loop\n",
    "            state = next_state\n",
    "            ## ingrece the i in each loop!\n",
    "            i += 1 \n",
    "         \n",
    "        # We are outside of the loop\n",
    "        scores.append(i) ## add the numper of loop \"i\"\n",
    "        mean_score = np.mean(scores) ### get the average!!\n",
    "        \n",
    "        #STEP4 some if???\n",
    "        if mean_score >= n_win_ticks and e >= 100:\n",
    "            ### Test if the pole stay straight for long time\n",
    "            if not quet: \n",
    "                #env.render()\n",
    "                print('Run {} episodes. Solved after {} trails'.format(e, e-100))\n",
    "            return e -100\n",
    "        \n",
    "        if e % SHOW_EVERY == 0 and not quet:\n",
    "            ## Take a image every 20 cycles\n",
    "            #env.render()\n",
    "            print('[Episode {}] - Mean survival time over last 100 episodes was {} ticks.'.format(e,mean_score))\n",
    "        \n",
    "        #STEP5 is the replay function\n",
    "        replay(batch_size, get_epsilon(e))\n",
    "        \n",
    "    if not quet:\n",
    "        print('Did not solve after {} episodes'.format(e))\n",
    "        \n",
    "    return e\n",
    "   ### quet is a boolean parameter to able or disable  the print and render functions."
   ]
  },
  {
   "cell_type": "code",
   "execution_count": null,
   "metadata": {
    "scrolled": true
   },
   "outputs": [
    {
     "name": "stdout",
     "output_type": "stream",
     "text": [
      "[Episode 0] - Mean survival time over last 100 episodes was 21.0 ticks.\n",
      "WARNING:tensorflow:5 out of the last 5 calls to <function _make_execution_function.<locals>.distributed_function at 0x0000021C8544D168> triggered tf.function retracing. Tracing is expensive and the excessive number of tracings is likely due to passing python objects instead of tensors. Also, tf.function has experimental_relax_shapes=True option that relaxes argument shapes that can avoid unnecessary retracing. Please refer to https://www.tensorflow.org/tutorials/customization/performance#python_or_tensor_args and https://www.tensorflow.org/api_docs/python/tf/function for more details.\n",
      "WARNING:tensorflow:6 out of the last 6 calls to <function _make_execution_function.<locals>.distributed_function at 0x0000021C8544D168> triggered tf.function retracing. Tracing is expensive and the excessive number of tracings is likely due to passing python objects instead of tensors. Also, tf.function has experimental_relax_shapes=True option that relaxes argument shapes that can avoid unnecessary retracing. Please refer to https://www.tensorflow.org/tutorials/customization/performance#python_or_tensor_args and https://www.tensorflow.org/api_docs/python/tf/function for more details.\n",
      "WARNING:tensorflow:7 out of the last 7 calls to <function _make_execution_function.<locals>.distributed_function at 0x0000021C8544D168> triggered tf.function retracing. Tracing is expensive and the excessive number of tracings is likely due to passing python objects instead of tensors. Also, tf.function has experimental_relax_shapes=True option that relaxes argument shapes that can avoid unnecessary retracing. Please refer to https://www.tensorflow.org/tutorials/customization/performance#python_or_tensor_args and https://www.tensorflow.org/api_docs/python/tf/function for more details.\n",
      "WARNING:tensorflow:8 out of the last 8 calls to <function _make_execution_function.<locals>.distributed_function at 0x0000021C8544D168> triggered tf.function retracing. Tracing is expensive and the excessive number of tracings is likely due to passing python objects instead of tensors. Also, tf.function has experimental_relax_shapes=True option that relaxes argument shapes that can avoid unnecessary retracing. Please refer to https://www.tensorflow.org/tutorials/customization/performance#python_or_tensor_args and https://www.tensorflow.org/api_docs/python/tf/function for more details.\n",
      "WARNING:tensorflow:9 out of the last 9 calls to <function _make_execution_function.<locals>.distributed_function at 0x0000021C8544D168> triggered tf.function retracing. Tracing is expensive and the excessive number of tracings is likely due to passing python objects instead of tensors. Also, tf.function has experimental_relax_shapes=True option that relaxes argument shapes that can avoid unnecessary retracing. Please refer to https://www.tensorflow.org/tutorials/customization/performance#python_or_tensor_args and https://www.tensorflow.org/api_docs/python/tf/function for more details.\n",
      "WARNING:tensorflow:10 out of the last 10 calls to <function _make_execution_function.<locals>.distributed_function at 0x0000021C8544D168> triggered tf.function retracing. Tracing is expensive and the excessive number of tracings is likely due to passing python objects instead of tensors. Also, tf.function has experimental_relax_shapes=True option that relaxes argument shapes that can avoid unnecessary retracing. Please refer to https://www.tensorflow.org/tutorials/customization/performance#python_or_tensor_args and https://www.tensorflow.org/api_docs/python/tf/function for more details.\n",
      "WARNING:tensorflow:11 out of the last 11 calls to <function _make_execution_function.<locals>.distributed_function at 0x0000021C8544D168> triggered tf.function retracing. Tracing is expensive and the excessive number of tracings is likely due to passing python objects instead of tensors. Also, tf.function has experimental_relax_shapes=True option that relaxes argument shapes that can avoid unnecessary retracing. Please refer to https://www.tensorflow.org/tutorials/customization/performance#python_or_tensor_args and https://www.tensorflow.org/api_docs/python/tf/function for more details.\n",
      "[Episode 20] - Mean survival time over last 100 episodes was 10.571428571428571 ticks.\n",
      "[Episode 40] - Mean survival time over last 100 episodes was 10.0 ticks.\n",
      "[Episode 60] - Mean survival time over last 100 episodes was 9.754098360655737 ticks.\n",
      "[Episode 80] - Mean survival time over last 100 episodes was 9.679012345679013 ticks.\n",
      "[Episode 100] - Mean survival time over last 100 episodes was 9.48 ticks.\n",
      "[Episode 120] - Mean survival time over last 100 episodes was 9.37 ticks.\n",
      "[Episode 140] - Mean survival time over last 100 episodes was 9.35 ticks.\n",
      "[Episode 160] - Mean survival time over last 100 episodes was 9.39 ticks.\n",
      "[Episode 180] - Mean survival time over last 100 episodes was 9.4 ticks.\n",
      "[Episode 200] - Mean survival time over last 100 episodes was 9.45 ticks.\n",
      "[Episode 220] - Mean survival time over last 100 episodes was 9.45 ticks.\n",
      "[Episode 240] - Mean survival time over last 100 episodes was 9.45 ticks.\n",
      "[Episode 260] - Mean survival time over last 100 episodes was 9.39 ticks.\n",
      "[Episode 280] - Mean survival time over last 100 episodes was 9.39 ticks.\n",
      "[Episode 300] - Mean survival time over last 100 episodes was 9.36 ticks.\n",
      "[Episode 320] - Mean survival time over last 100 episodes was 9.4 ticks.\n",
      "[Episode 340] - Mean survival time over last 100 episodes was 9.46 ticks.\n",
      "[Episode 360] - Mean survival time over last 100 episodes was 9.46 ticks.\n",
      "[Episode 380] - Mean survival time over last 100 episodes was 9.38 ticks.\n",
      "[Episode 400] - Mean survival time over last 100 episodes was 9.41 ticks.\n",
      "[Episode 420] - Mean survival time over last 100 episodes was 9.32 ticks.\n",
      "[Episode 440] - Mean survival time over last 100 episodes was 9.27 ticks.\n",
      "[Episode 460] - Mean survival time over last 100 episodes was 9.34 ticks.\n",
      "[Episode 480] - Mean survival time over last 100 episodes was 9.31 ticks.\n",
      "[Episode 500] - Mean survival time over last 100 episodes was 9.35 ticks.\n",
      "[Episode 520] - Mean survival time over last 100 episodes was 9.42 ticks.\n",
      "[Episode 540] - Mean survival time over last 100 episodes was 9.42 ticks.\n",
      "[Episode 560] - Mean survival time over last 100 episodes was 9.36 ticks.\n",
      "[Episode 580] - Mean survival time over last 100 episodes was 9.4 ticks.\n"
     ]
    }
   ],
   "source": [
    "run()"
   ]
  },
  {
   "cell_type": "code",
   "execution_count": null,
   "metadata": {},
   "outputs": [],
   "source": [
    "env.close()"
   ]
  },
  {
   "cell_type": "code",
   "execution_count": null,
   "metadata": {},
   "outputs": [],
   "source": [
    "env.render()"
   ]
  },
  {
   "cell_type": "code",
   "execution_count": null,
   "metadata": {},
   "outputs": [],
   "source": [
    "model.save('saved.model')"
   ]
  },
  {
   "cell_type": "code",
   "execution_count": 6,
   "metadata": {},
   "outputs": [],
   "source": [
    "new_model = tf.keras.models.load_model('saved.model')"
   ]
  },
  {
   "cell_type": "code",
   "execution_count": 50,
   "metadata": {},
   "outputs": [],
   "source": [
    "done = False\n",
    "state =env.reset()\n",
    "state = preprocess_state(state)\n",
    "\n",
    "while not done:\n",
    "    action = np.argmax(model.predict(state))\n",
    "    state, reward, done, _ = env.step(action)\n",
    "    state = preprocess_state(state)\n",
    "    env.render()"
   ]
  },
  {
   "cell_type": "code",
   "execution_count": 51,
   "metadata": {},
   "outputs": [],
   "source": [
    "env.close()"
   ]
  }
 ],
 "metadata": {
  "kernelspec": {
   "display_name": "Python 3",
   "language": "python",
   "name": "python3"
  }
 },
 "nbformat": 4,
 "nbformat_minor": 4
}
