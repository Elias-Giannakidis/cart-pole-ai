{
 "cells": [
  {
   "cell_type": "code",
   "execution_count": 1,
   "metadata": {},
   "outputs": [],
   "source": [
    "import gym \n",
    "import numpy as np"
   ]
  },
  {
   "cell_type": "code",
   "execution_count": 2,
   "metadata": {},
   "outputs": [
    {
     "data": {
      "text/plain": [
       "array([-0.01615046, -0.02847156, -0.04201839, -0.04516696])"
      ]
     },
     "execution_count": 2,
     "metadata": {},
     "output_type": "execute_result"
    }
   ],
   "source": [
    "env_name = \"CartPole-v1\"\n",
    "env = gym.make(env_name)\n",
    "env.reset()"
   ]
  },
  {
   "cell_type": "code",
   "execution_count": null,
   "metadata": {},
   "outputs": [],
   "source": [
    "env.reset()   ####Test function\n",
    "\n",
    "for _ in range(500):\n",
    "    action = 1 ## = fordward force\n",
    "    new_state, reward, done, _ = env.step(action) ## _ = info \n",
    " ## print(\"something\")\n",
    "    env.render()\n",
    "env.close()"
   ]
  },
  {
   "cell_type": "code",
   "execution_count": null,
   "metadata": {},
   "outputs": [],
   "source": [
    "print(\"Observation space high: \", env.observation_space.high)\n",
    "print(\"Observation space low\", env.observation_space.low)\n",
    "print(\"Actions: \", env.action_space.n)\n",
    "print(\"-----------------------------------------------------------------\")\n",
    "print(\"Cart Possition: \",env.observation_space.high[0], env.observation_space.low[0])\n",
    "print(\"Cart Velosity: \",env.observation_space.high[1], env.observation_space.low[1])\n",
    "print(\"Pole Angle: \",env.observation_space.high[2], env.observation_space.low[2])\n",
    "print(\"Pole Angular Velocity: \",env.observation_space.high[3], env.observation_space.low[3])"
   ]
  },
  {
   "cell_type": "code",
   "execution_count": 3,
   "metadata": {},
   "outputs": [],
   "source": [
    "MAX_MIN_VELOCITY = 1.9"
   ]
  },
  {
   "cell_type": "code",
   "execution_count": 4,
   "metadata": {},
   "outputs": [],
   "source": [
    "DISCRETE_OS_SIZE = [10,10,10,10]  ###  Size of state matrix"
   ]
  },
  {
   "cell_type": "code",
   "execution_count": 5,
   "metadata": {},
   "outputs": [],
   "source": [
    "DISCRETE_OS_WIN_SIZE = [0,0,0,0]\n",
    "DISCRETE_OS_WIN_SIZE[0] = (env.observation_space.high[0] - env.observation_space.low[0])/DISCRETE_OS_SIZE[0]\n",
    "DISCRETE_OS_WIN_SIZE[1] = 2*MAX_MIN_VELOCITY/DISCRETE_OS_SIZE[1]\n",
    "DISCRETE_OS_WIN_SIZE[2] = (env.observation_space.high[2] - env.observation_space.low[2])/DISCRETE_OS_SIZE[2]\n",
    "DISCRETE_OS_WIN_SIZE[3] = 2*MAX_MIN_VELOCITY/DISCRETE_OS_SIZE[3]"
   ]
  },
  {
   "cell_type": "code",
   "execution_count": 18,
   "metadata": {},
   "outputs": [],
   "source": [
    "q_table = np.random.uniform(low = 0, high = 1, size = (DISCRETE_OS_SIZE + [env.action_space.n]))\n",
    "## Create a random Q table with values beetwen -2 and 0 in manifest size..."
   ]
  },
  {
   "cell_type": "code",
   "execution_count": 7,
   "metadata": {},
   "outputs": [],
   "source": [
    "def get_discrete_state(state):    #### Convert the state\n",
    "    if state[1] < MAX_MIN_VELOCITY*(-1):\n",
    "        state[1] = -1*MAX_MIN_VELOCITY\n",
    "    elif state[1] > MAX_MIN_VELOCITY:\n",
    "        state[1] = MAX_MIN_VELOCITY\n",
    "    if state[3] < MAX_MIN_VELOCITY*(-1):\n",
    "        state[3] = -1*MAX_MIN_VELOCITY\n",
    "    elif state[3] > MAX_MIN_VELOCITY:\n",
    "        state[3] = MAX_MIN_VELOCITY\n",
    "    env_low = env.observation_space.low\n",
    "    env_low[1] = -1*MAX_MIN_VELOCITY\n",
    "    env_low[3] = -1*MAX_MIN_VELOCITY\n",
    "    discrete_state = (state - env_low) / DISCRETE_OS_WIN_SIZE\n",
    "    if discrete_state[1] > DISCRETE_OS_SIZE[1] - 1:\n",
    "        discrete_state[1] = DISCRETE_OS_SIZE[1] - 1\n",
    "    if discrete_state[3] > DISCRETE_OS_SIZE[3] - 1:\n",
    "        discrete_state[3] = DISCRETE_OS_SIZE[3] - 1\n",
    "    return tuple(discrete_state.astype(np.int))"
   ]
  },
  {
   "cell_type": "code",
   "execution_count": 28,
   "metadata": {},
   "outputs": [],
   "source": [
    "LEARNING_RATE = 0.1  ### a in equation \n",
    "DISCOUNT = 0.90  ### gamma, g, in equation\n",
    "EPISODES = 15000\n",
    "VIEW_EVERY = 1000"
   ]
  },
  {
   "cell_type": "markdown",
   "metadata": {},
   "source": [
    "Q(s,a) = Q(s,a) + a x [ r(s,a) + g x argMaxQ(s,a)|a - Q(s,a) ]"
   ]
  },
  {
   "cell_type": "code",
   "execution_count": 42,
   "metadata": {},
   "outputs": [],
   "source": [
    "env.reset()\n",
    "\n",
    "max_score = 0\n",
    "\n",
    "for episode in range(EPISODES):\n",
    "    \n",
    "    new_score = 0\n",
    "    \n",
    "    if episode % VIEW_EVERY == 0:\n",
    "        view = True\n",
    "    else:\n",
    "        view = False\n",
    "    \n",
    "    done = False\n",
    "    discrete_state = get_discrete_state(env.reset())\n",
    "\n",
    "    while not done:\n",
    "        action = np.argmax(q_table[discrete_state])\n",
    "        new_state, reward, done, _ = env.step(action)\n",
    "        new_discrete_state = get_discrete_state(new_state)\n",
    "        if view:\n",
    "            env.render()\n",
    "        if not done:\n",
    "            max_future_q = np.max(q_table[new_discrete_state])   #### Most important lines!!!!!!\n",
    "            current_q = q_table[discrete_state + (action, )]\n",
    "            new_q = (1 - LEARNING_RATE)*current_q + LEARNING_RATE*(reward + DISCOUNT * max_future_q)\n",
    "            q_table[discrete_state + (action, )] = new_q\n",
    "        new_score = new_score + 1\n",
    "        if new_score > max_score:\n",
    "            max_score = new_score\n",
    "\n",
    "        discrete_state = new_discrete_state\n",
    "\n",
    "env.close()"
   ]
  },
  {
   "cell_type": "code",
   "execution_count": 10,
   "metadata": {},
   "outputs": [],
   "source": [
    "env.close()"
   ]
  },
  {
   "cell_type": "code",
   "execution_count": 30,
   "metadata": {},
   "outputs": [
    {
     "name": "stdout",
     "output_type": "stream",
     "text": [
      "237\n"
     ]
    }
   ],
   "source": [
    "print(max_score)"
   ]
  },
  {
   "cell_type": "code",
   "execution_count": null,
   "metadata": {},
   "outputs": [],
   "source": [
    "261"
   ]
  },
  {
   "cell_type": "code",
   "execution_count": 49,
   "metadata": {},
   "outputs": [],
   "source": [
    "from tensorflow import keras"
   ]
  }
 ],
 "metadata": {
  "kernelspec": {
   "display_name": "Python 3",
   "language": "python",
   "name": "python3"
  },
  "language_info": {
   "codemirror_mode": {
    "name": "ipython",
    "version": 3
   },
   "file_extension": ".py",
   "mimetype": "text/x-python",
   "name": "python",
   "nbconvert_exporter": "python",
   "pygments_lexer": "ipython3",
   "version": "3.7.7"
  }
 },
 "nbformat": 4,
 "nbformat_minor": 4
}
